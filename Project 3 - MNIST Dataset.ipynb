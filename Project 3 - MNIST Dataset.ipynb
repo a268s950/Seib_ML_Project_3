{
 "cells": [
  {
   "cell_type": "markdown",
   "id": "1441a6fd",
   "metadata": {},
   "source": [
    "This project uses the famous MNIST dataset.\n",
    "First, we'll import MNIST from the csv file."
   ]
  },
  {
   "cell_type": "code",
   "execution_count": 110,
   "id": "f8985750",
   "metadata": {},
   "outputs": [],
   "source": [
    "import numpy as np\n",
    "import pandas as pd\n",
    "from matplotlib import pyplot as plt\n",
    "\n",
    "data = pd.read_csv('train.csv')"
   ]
  },
  {
   "cell_type": "markdown",
   "id": "4704d388",
   "metadata": {},
   "source": [
    "Let's look at some of the data and how it is stored:"
   ]
  },
  {
   "cell_type": "code",
   "execution_count": 111,
   "id": "0dd4b6ed",
   "metadata": {
    "scrolled": false
   },
   "outputs": [],
   "source": [
    "#data[0] #this stopped working suddenly at 11:27... if it works I will add back in"
   ]
  },
  {
   "attachments": {},
   "cell_type": "markdown",
   "id": "632aa536",
   "metadata": {},
   "source": [
    "As can be seen, the file contains grey-scale images of hand-written digits, from 0 to 9, and the grey-scale values are between 0 (black) and 255 (white). There are 784 columns that will be used as the input layer. \n",
    "\n",
    "The goal is to predict the digit of an image, using a 2-layer Neural Network."
   ]
  },
  {
   "cell_type": "code",
   "execution_count": 112,
   "id": "0e1c420d",
   "metadata": {},
   "outputs": [],
   "source": [
    "data = np.array(data) #changing to np array from pandas dataframe\n",
    "\n",
    "np.random.shuffle(data)\n",
    "\n",
    "data_original = data[0:1000].T #copy of first 1000 samples of original data \n",
    "Y_original = data_original[0] #first row which contains labels(was first column)\n",
    "#m = 42000\n",
    "#n=785\n",
    "X_original = data_original[1:785] #everything else\n",
    "X_original = X_original/255.\n",
    "\n",
    "data_train = data[1000:42000].T #data we're actually training on\n",
    "Y_train = data_train[0]\n",
    "X_train = data_train[1:785]\n",
    "X_train = X_train/255 #normalizing X_train\n",
    "_, m_train = X_train.shape\n",
    "\n",
    "#X_train[:, 0].shape just to look #our first column has 784 pixels in it"
   ]
  },
  {
   "cell_type": "code",
   "execution_count": 113,
   "id": "6217d741",
   "metadata": {},
   "outputs": [],
   "source": [
    "def init_params():\n",
    "    weight_1 = np.random.rand(256, 784) - 0.5 #creates random values between -0.5 and 0.5\n",
    "    weight_2 = np.random.rand(128, 256) - 0.5\n",
    "    weight_3 = np.random.rand(64, 128) - 0.5\n",
    "    weight_4 = np.random.rand(10,64) - 0.5\n",
    "\n",
    "    bias_1 = np.random.rand(256, 1) - 0.5\n",
    "    bias_2 = np.random.rand(128, 1) - 0.5\n",
    "    bias_3 = np.random.rand(64,1) - 0.5\n",
    "    bias_4 = np.random.rand(10,1) - 0.5\n",
    "    return weight_1, bias_1, weight_2, bias_2, weight_3, bias_3, weight_4, bias_4\n",
    "\n",
    "def LinearUnit(Z): #linear function\n",
    "    return np.maximum(Z, 0)\n",
    "\n",
    "def softmax(Z): #we want the sum for each column across all of the rows in that column, then divide each element of that sum\n",
    "    A = np.exp(Z) / sum(np.exp(Z)) #preserves amount of columns and colapses amount of rows\n",
    "    #formula: e^Z_i/summation(e^Z_j)\n",
    "    return A\n",
    "    \n"
   ]
  },
  {
   "cell_type": "markdown",
   "id": "663eb189",
   "metadata": {},
   "source": [
    "Forward propagation is how you get a prediction from an image..."
   ]
  },
  {
   "cell_type": "code",
   "execution_count": 114,
   "id": "8d9366a3",
   "metadata": {},
   "outputs": [],
   "source": [
    "def forward_prop(W1, b1, W2, b2, W3, b3, W4, b4, X):\n",
    "    Z1 = W1.dot(X) + b1\n",
    "    A1 = LinearUnit(Z1)\n",
    "    Z2 = W2.dot(A1) + b2\n",
    "    A2 = LinearUnit(Z2)\n",
    "    Z3 = W3.dot(A2) + b3\n",
    "    A3 = LinearUnit(Z3)\n",
    "    Z4 = W4.dot(A3) + b4\n",
    "    A4 = softmax(Z4)\n",
    "    return Z1, A1, Z2, A2, Z3, A3, Z4, A4\n",
    "\n",
    "def LinearUnit_deriv(Z):\n",
    "    return (Z > 0) #slope of linear equation is 0 and then 1, so return 1 if greater than 0\n",
    "\n",
    "def one_hot(Y):\n",
    "    size = Y.size\n",
    "    output_classes = Y.max() + 1\n",
    "    OH_Y = np.zeros((size, output_classes))\n",
    "    OH_Y[np.arange(size), Y] = 1 #goes through each row and at the desired column sets the value to 1\n",
    "    OH_Y = OH_Y.T #flip to make each column each example\n",
    "    return OH_Y"
   ]
  },
  {
   "cell_type": "markdown",
   "id": "0651f36c",
   "metadata": {},
   "source": [
    "Backward propagation starts with the predication, and calculates how much the predication differentiates from the actual label."
   ]
  },
  {
   "cell_type": "code",
   "execution_count": 115,
   "id": "8b45b257",
   "metadata": {},
   "outputs": [],
   "source": [
    "\n",
    "def backward_prop(Z1, A1, Z2, A2, Z3, A3, Z4, A4, W1, W2, W3, W4, X, Y):\n",
    "    OH_Y = one_hot(Y)\n",
    "    #Formula: dz_n = A_n-Y\n",
    "    dZ4 = A4- OH_Y\n",
    "    dW4 = 1 / 42000 * dZ4.dot(A3.T)\n",
    "    db4 = 1 / 42000 * np.sum(dZ4)\n",
    "    dZ3 = W4.T.dot(dZ4) * LinearUnit_deriv(Z3)\n",
    "    dW3 = 1 / 42000 * dZ3.dot(A2.T)\n",
    "    db3 = 1 / 42000 * np.sum(dZ3)\n",
    "    dZ2 = W3.T.dot(dZ3) * LinearUnit_deriv(Z2)\n",
    "    dW2 = 1 / 42000 * dZ2.dot(A1.T)\n",
    "    db2 = 1 / 42000 * np.sum(dZ2)\n",
    "    dZ1 = W2.T.dot(dZ2) * LinearUnit_deriv(Z1)\n",
    "    dW1 = 1 / 42000 * dZ1.dot(X.T)\n",
    "    db1 = 1 / 42000 * np.sum(dZ1)\n",
    "    return dW1, db1, dW2, db2, dW3, db3, dW4, db4\n",
    "\n",
    "def update_params(W1, b1, W2, b2, W3, b3, W4, b4, dW1, db1, dW2, db2, dW3, db3, dW4, db4, a):\n",
    "    W1 = W1 - a * dW1\n",
    "    b1 = b1 - a * db1    \n",
    "    W2 = W2 - a * dW2  \n",
    "    b2 = b2 - a * db2\n",
    "    W3 = W3 - a * dW3\n",
    "    b3 = b3 - a * db3    \n",
    "    W4 = W4 - a * dW4  \n",
    "    b4 = b4 - a * db4\n",
    "    return W1, b1, W2, b2, W3, b3, W4, b4\n",
    "\n",
    "def get_predictions(A2):\n",
    "    return np.argmax(A2, 0)\n",
    "\n",
    "def get_accuracy(pred, Y):\n",
    "    print(pred, Y)\n",
    "    return np.sum(pred == Y) / Y.size"
   ]
  },
  {
   "cell_type": "markdown",
   "id": "23890617",
   "metadata": {},
   "source": [
    "Now we have everything we need to execute the gradient descent on the neural network..."
   ]
  },
  {
   "cell_type": "code",
   "execution_count": 117,
   "id": "01bd9f76",
   "metadata": {},
   "outputs": [
    {
     "name": "stdout",
     "output_type": "stream",
     "text": [
      "[9 9 9 ... 9 7 9] [2 2 9 ... 8 3 0]\n",
      "0.11736585365853658\n",
      "[0 2 0 ... 0 0 2] [2 2 9 ... 8 3 0]\n",
      "0.09804878048780488\n",
      "[0 2 0 ... 0 0 2] [2 2 9 ... 8 3 0]\n",
      "0.10492682926829268\n",
      "[0 2 0 ... 0 0 2] [2 2 9 ... 8 3 0]\n",
      "0.11339024390243903\n",
      "[0 2 0 ... 0 0 2] [2 2 9 ... 8 3 0]\n",
      "0.12419512195121951\n",
      "[0 2 0 ... 0 0 0] [2 2 9 ... 8 3 0]\n",
      "0.1395609756097561\n",
      "[0 2 0 ... 0 0 0] [2 2 9 ... 8 3 0]\n",
      "0.1561219512195122\n",
      "[5 2 0 ... 5 0 0] [2 2 9 ... 8 3 0]\n",
      "0.174\n",
      "[5 2 0 ... 5 0 0] [2 2 9 ... 8 3 0]\n",
      "0.19426829268292684\n",
      "[5 2 0 ... 5 0 0] [2 2 9 ... 8 3 0]\n",
      "0.21204878048780487\n",
      "[8 2 0 ... 5 0 0] [2 2 9 ... 8 3 0]\n",
      "0.231\n",
      "[8 2 0 ... 5 0 0] [2 2 9 ... 8 3 0]\n",
      "0.24958536585365854\n",
      "[8 2 0 ... 5 0 0] [2 2 9 ... 8 3 0]\n",
      "0.26690243902439026\n",
      "[2 2 0 ... 5 0 0] [2 2 9 ... 8 3 0]\n",
      "0.2837073170731707\n",
      "[2 2 0 ... 8 0 0] [2 2 9 ... 8 3 0]\n",
      "0.29860975609756096\n",
      "[2 2 0 ... 8 0 0] [2 2 9 ... 8 3 0]\n",
      "0.3128292682926829\n",
      "[2 2 0 ... 8 0 0] [2 2 9 ... 8 3 0]\n",
      "0.32490243902439025\n",
      "[2 2 0 ... 8 0 0] [2 2 9 ... 8 3 0]\n",
      "0.3362926829268293\n",
      "[2 2 0 ... 5 0 0] [2 2 9 ... 8 3 0]\n",
      "0.347\n",
      "[2 2 0 ... 5 0 0] [2 2 9 ... 8 3 0]\n",
      "0.35729268292682925\n",
      "[2 2 0 ... 5 0 0] [2 2 9 ... 8 3 0]\n",
      "0.3679268292682927\n",
      "[2 2 0 ... 5 0 0] [2 2 9 ... 8 3 0]\n",
      "0.3784390243902439\n",
      "[2 2 0 ... 5 0 0] [2 2 9 ... 8 3 0]\n",
      "0.38939024390243904\n",
      "[2 2 0 ... 5 0 0] [2 2 9 ... 8 3 0]\n",
      "0.4029268292682927\n",
      "[2 2 0 ... 5 0 0] [2 2 9 ... 8 3 0]\n",
      "0.42017073170731706\n",
      "[2 2 4 ... 8 0 0] [2 2 9 ... 8 3 0]\n",
      "0.44946341463414635\n",
      "[2 2 8 ... 8 0 0] [2 2 9 ... 8 3 0]\n",
      "0.48634146341463413\n",
      "[2 2 9 ... 8 0 0] [2 2 9 ... 8 3 0]\n",
      "0.5217073170731708\n",
      "[2 2 9 ... 8 0 0] [2 2 9 ... 8 3 0]\n",
      "0.5488780487804878\n",
      "[2 2 9 ... 8 0 0] [2 2 9 ... 8 3 0]\n",
      "0.5696829268292682\n",
      "[2 2 9 ... 8 0 0] [2 2 9 ... 8 3 0]\n",
      "0.5875121951219512\n",
      "[2 2 9 ... 8 0 0] [2 2 9 ... 8 3 0]\n",
      "0.5953170731707317\n",
      "[2 2 9 ... 8 0 0] [2 2 9 ... 8 3 0]\n",
      "0.6306585365853659\n",
      "[2 2 9 ... 8 0 0] [2 2 9 ... 8 3 0]\n",
      "0.6407560975609756\n",
      "[2 2 9 ... 5 0 0] [2 2 9 ... 8 3 0]\n",
      "0.6633170731707317\n",
      "[2 2 9 ... 5 3 0] [2 2 9 ... 8 3 0]\n",
      "0.681829268292683\n",
      "[2 2 9 ... 5 3 0] [2 2 9 ... 8 3 0]\n",
      "0.6924634146341463\n",
      "[2 2 9 ... 5 0 0] [2 2 9 ... 8 3 0]\n",
      "0.7062195121951219\n",
      "[2 2 9 ... 5 0 0] [2 2 9 ... 8 3 0]\n",
      "0.7375609756097561\n",
      "[2 2 9 ... 5 0 0] [2 2 9 ... 8 3 0]\n",
      "0.7550975609756098\n",
      "[2 2 4 ... 5 0 0] [2 2 9 ... 8 3 0]\n",
      "0.7501463414634146\n",
      "[2 2 4 ... 5 0 0] [2 2 9 ... 8 3 0]\n",
      "0.7568536585365854\n",
      "[2 2 4 ... 5 0 0] [2 2 9 ... 8 3 0]\n",
      "0.7724390243902439\n",
      "[2 2 4 ... 5 0 0] [2 2 9 ... 8 3 0]\n",
      "0.7721219512195122\n",
      "[2 2 4 ... 5 3 0] [2 2 9 ... 8 3 0]\n",
      "0.7812439024390244\n",
      "[2 2 4 ... 5 3 0] [2 2 9 ... 8 3 0]\n",
      "0.7893902439024391\n",
      "[2 2 4 ... 5 3 0] [2 2 9 ... 8 3 0]\n",
      "0.799829268292683\n",
      "[2 2 4 ... 5 3 0] [2 2 9 ... 8 3 0]\n",
      "0.796829268292683\n",
      "[2 2 4 ... 5 0 0] [2 2 9 ... 8 3 0]\n",
      "0.8077073170731708\n",
      "[2 2 4 ... 5 0 0] [2 2 9 ... 8 3 0]\n",
      "0.8159024390243902\n"
     ]
    }
   ],
   "source": [
    "def gradient_descent(X, Y, a, j):\n",
    "    W1, b1, W2, b2, W3, b3, W4, b4 = init_params()\n",
    "    for i in range(j):\n",
    "        #forward prop first\n",
    "        Z1, A1, Z2, A2, Z3, A3, Z4, A4 = forward_prop(W1, b1, W2, b2, W3, b3, W4, b4, X)\n",
    "        #next back prop using first prop\n",
    "        dW1, db1, dW2, db2, dW3, db3, dW4, db4 = backward_prop(Z1, A1, Z2, A2, Z3, A3, Z4, A4, W1, W2, W3, W4, X, Y)\n",
    "        #update weights using backward prop\n",
    "        W1, b1, W2, b2, W3, b3, W4, b4 = update_params(W1, b1, W2, b2, W3, b3, W4, b4, dW1, db1, dW2, db2, dW3, db3, dW4, db4, a)\n",
    "        if i % 10 == 0:\n",
    "            predictions = get_predictions(A4)\n",
    "            print(get_accuracy(predictions, Y))\n",
    "    return W1, b1, W2, b2, W3, b3, W4, b4\n",
    "\n",
    "W1, b1, W2, b2, W3, b3, W4, b4 = gradient_descent(X_train, Y_train, 0.1, 500)\n"
   ]
  },
  {
   "cell_type": "markdown",
   "id": "79cf9bdd",
   "metadata": {},
   "source": [
    "Adding more layers would give higher accuracy. "
   ]
  },
  {
   "cell_type": "code",
   "execution_count": 122,
   "id": "4ba93b64",
   "metadata": {},
   "outputs": [],
   "source": [
    "def make_predictions(X,W1, b1, W2, b2, W3, b3, W4, b4):\n",
    "    _, _, _, _, _, _, _, A4 = forward_prop(W1, b1, W2, b2, W3, b3, W4, b4, X)\n",
    "    print(\"A4\", A4)\n",
    "    predictions = get_predictions(A4)\n",
    "    return predictions\n",
    "\n",
    "def test_prediction(index, W1, b1, W2, b2, W3, b3, W4, b4):\n",
    "    image = X_train[:, index, None]\n",
    "    prediction = make_predictions(X_train[:, index, None], W1, b1, W2, b2, W3, b3, W4, b4)\n",
    "    label = Y_train[index]\n",
    "    print(\"Prediction: \", prediction)\n",
    "    print(\"Label: \", label)\n",
    "    \n",
    "    image = image.reshape((28, 28)) * 255\n",
    "    plt.gray()\n",
    "    plt.imshow(image, interpolation='nearest')\n",
    "    plt.show()\n",
    "\n"
   ]
  },
  {
   "cell_type": "markdown",
   "id": "1feeb582",
   "metadata": {},
   "source": [
    "Examples of predicting 5 and the label it guesses. If you want to try more numbers, just change the first parameter to whatever number between 0 and 9."
   ]
  },
  {
   "cell_type": "code",
   "execution_count": 123,
   "id": "3b5db4b3",
   "metadata": {},
   "outputs": [
    {
     "name": "stdout",
     "output_type": "stream",
     "text": [
      "A4 [[0.04848731]\n",
      " [0.00047176]\n",
      " [0.02054154]\n",
      " [0.17280496]\n",
      " [0.15447954]\n",
      " [0.37126558]\n",
      " [0.048607  ]\n",
      " [0.02195988]\n",
      " [0.14923594]\n",
      " [0.01214649]]\n",
      "Prediction:  [5]\n",
      "Label:  5\n"
     ]
    },
    {
     "data": {
      "image/png": "[encoded data removed]",
      "text/plain": [
       "<Figure size 432x288 with 1 Axes>"
      ]
     },
     "metadata": {
      "needs_background": "light"
     },
     "output_type": "display_data"
    },
    {
     "name": "stdout",
     "output_type": "stream",
     "text": [
      "A4 [[7.35506481e-04]\n",
      " [3.74417244e-47]\n",
      " [9.81655629e-01]\n",
      " [6.75823611e-03]\n",
      " [4.82276479e-10]\n",
      " [1.06499074e-02]\n",
      " [7.21084578e-05]\n",
      " [8.21839078e-09]\n",
      " [1.28603789e-04]\n",
      " [2.21462219e-11]]\n",
      "Prediction:  [2]\n",
      "Label:  2\n"
     ]
    },
    {
     "data": {
      "image/png": "[encoded data removed]",
      "text/plain": [
       "<Figure size 432x288 with 1 Axes>"
      ]
     },
     "metadata": {
      "needs_background": "light"
     },
     "output_type": "display_data"
    }
   ],
   "source": [
    "test_prediction(5, W1, b1, W2, b2, W3, b3, W4, b4)\n",
    "test_prediction(1, W1, b1, W2, b2, W3, b3, W4, b4)\n"
   ]
  },
  {
   "cell_type": "markdown",
   "id": "f434a770",
   "metadata": {},
   "source": [
    "An example of a failed prediction is a number like 149:"
   ]
  },
  {
   "cell_type": "code",
   "execution_count": 120,
   "id": "b67c0c5a",
   "metadata": {},
   "outputs": [
    {
     "name": "stdout",
     "output_type": "stream",
     "text": [
      "A4 [[2.94636242e-05]\n",
      " [1.91584616e-08]\n",
      " [1.50547332e-03]\n",
      " [1.57457766e-03]\n",
      " [5.12993060e-05]\n",
      " [7.59025624e-05]\n",
      " [5.81998165e-06]\n",
      " [9.94283793e-01]\n",
      " [3.04094564e-04]\n",
      " [2.16955693e-03]]\n",
      "Prediction:  [7]\n",
      "Label:  7\n"
     ]
    },
    {
     "data": {
      "image/png": "[encoded data removed]",
      "text/plain": [
       "<Figure size 432x288 with 1 Axes>"
      ]
     },
     "metadata": {
      "needs_background": "light"
     },
     "output_type": "display_data"
    }
   ],
   "source": [
    "test_prediction(149, W1, b1, W2, b2, W3, b3, W4, b4)\n"
   ]
  },
  {
   "cell_type": "markdown",
   "id": "7914db11",
   "metadata": {},
   "source": [
    "Let's cross-validate the accuracy with the original data:"
   ]
  },
  {
   "cell_type": "code",
   "execution_count": 121,
   "id": "83079d31",
   "metadata": {},
   "outputs": [
    {
     "name": "stdout",
     "output_type": "stream",
     "text": [
      "A4 [[9.64327778e-02 9.46701584e-06 7.99152166e-05 ... 4.49713728e-06\n",
      "  3.85210826e-01 4.57077717e-08]\n",
      " [7.00153458e-12 9.77015318e-01 5.83953752e-10 ... 1.06716199e-09\n",
      "  1.55790313e-38 2.85217882e-05]\n",
      " [2.71315751e-03 9.21874062e-03 4.36415915e-04 ... 1.81299698e-03\n",
      "  5.20763711e-01 3.39023444e-02]\n",
      " ...\n",
      " [3.30386213e-03 1.08547469e-02 5.48926426e-03 ... 9.96047183e-01\n",
      "  1.10402060e-07 1.33797916e-05]\n",
      " [1.05692600e-02 1.52429955e-04 3.13315698e-03 ... 2.58366329e-04\n",
      "  2.00138360e-02 7.08799183e-01]\n",
      " [6.39583859e-05 5.32669277e-05 2.43285896e-01 ... 1.37769508e-03\n",
      "  7.55016927e-11 4.70477782e-05]]\n",
      "[5 1 4 6 4 4 3 1 5 0 2 4 8 4 0 1 7 7 8 1 4 9 1 9 6 9 8 8 0 6 3 8 4 8 5 1 4\n",
      " 5 5 6 0 7 3 0 8 9 1 0 2 1 0 4 0 7 1 4 7 2 3 9 4 8 5 5 0 6 0 2 1 4 1 5 3 6\n",
      " 5 6 1 6 7 0 8 4 8 0 9 1 5 4 7 7 0 7 2 6 3 6 8 0 8 3 7 8 3 1 3 5 4 1 1 2 4\n",
      " 4 0 0 3 0 7 8 1 3 4 1 6 0 4 5 6 8 8 9 2 2 1 5 5 8 1 4 3 0 0 9 9 0 3 1 3 3\n",
      " 6 4 4 1 7 3 7 6 6 1 4 8 8 8 9 7 1 6 4 2 6 1 4 8 6 0 6 0 4 4 7 1 2 9 1 1 8\n",
      " 8 7 5 5 6 0 5 3 4 5 4 1 4 1 7 1 6 0 0 1 0 1 7 4 9 3 3 1 9 7 8 7 1 4 2 2 6\n",
      " 3 7 7 7 8 8 0 3 2 8 4 7 6 3 6 2 4 3 7 2 2 6 6 0 8 1 2 5 1 6 6 0 6 3 3 9 8\n",
      " 4 7 7 2 2 8 4 1 4 3 5 5 0 0 2 9 1 6 0 2 0 7 3 4 0 0 3 7 8 6 7 3 0 4 1 7 4\n",
      " 2 5 0 3 2 1 3 0 6 0 0 5 3 0 6 1 8 7 4 0 6 0 8 7 8 1 4 9 1 7 0 7 0 0 2 5 2\n",
      " 5 4 6 5 2 5 5 1 8 5 3 6 2 8 7 4 7 6 3 7 0 4 4 2 2 8 9 4 8 3 7 7 0 8 2 3 0\n",
      " 6 1 4 3 7 4 4 7 0 2 6 4 6 8 9 0 3 3 3 4 2 3 7 5 3 1 4 4 2 6 1 2 3 8 3 2 6\n",
      " 5 5 8 7 1 5 8 0 0 4 7 6 3 4 1 8 2 3 5 5 4 4 4 5 0 1 1 7 7 7 7 3 4 8 1 9 4\n",
      " 9 8 4 1 1 1 2 3 2 0 9 3 8 3 8 4 4 1 8 5 3 1 0 6 4 2 8 1 7 4 0 8 2 4 8 2 0\n",
      " 1 6 4 5 8 7 7 2 2 7 2 1 7 1 5 7 4 7 5 4 8 7 4 9 4 4 4 9 1 8 8 6 6 1 2 5 1\n",
      " 6 7 8 1 4 9 4 7 7 7 4 8 1 4 2 0 5 8 4 6 0 4 6 4 7 4 1 2 2 8 9 1 3 1 0 3 1\n",
      " 6 8 0 7 0 2 8 6 2 4 2 1 0 5 5 1 9 8 4 8 0 4 4 1 1 7 4 9 8 1 6 1 1 5 4 7 4\n",
      " 6 0 8 9 8 0 8 1 2 1 2 0 6 6 5 1 7 8 5 7 2 4 2 5 5 5 1 5 9 3 5 7 4 2 3 7 1\n",
      " 6 6 5 3 2 8 2 6 4 7 3 4 1 6 8 5 5 4 9 1 5 1 3 0 8 3 4 3 6 4 9 1 5 1 3 2 2\n",
      " 5 2 5 0 6 7 0 2 1 2 1 3 2 2 7 5 7 2 0 4 6 0 7 8 1 7 1 3 1 4 6 8 5 8 4 4 6\n",
      " 0 6 8 6 2 4 1 8 4 3 3 3 4 1 9 2 2 4 6 4 6 1 7 7 0 7 4 9 8 0 6 0 6 4 6 5 6\n",
      " 5 0 4 3 1 2 4 9 3 3 4 9 5 3 7 5 7 8 7 7 9 4 0 3 4 4 5 2 3 4 4 6 7 7 9 4 2\n",
      " 7 7 2 9 1 2 0 5 6 4 1 3 2 6 2 0 0 2 5 5 7 4 9 1 6 0 4 2 2 7 0 3 5 0 2 0 8\n",
      " 6 9 8 1 1 7 2 7 3 6 7 1 8 4 1 5 4 1 1 5 3 6 7 3 3 1 1 8 3 5 1 2 8 8 2 3 5\n",
      " 6 1 9 5 0 1 7 5 4 2 2 6 5 0 4 5 7 6 1 6 0 3 4 0 2 4 6 8 1 0 4 0 5 4 4 0 5\n",
      " 0 3 4 0 5 2 8 0 6 7 9 1 8 0 8 5 1 2 2 2 7 8 7 5 7 1 3 7 0 2 8 1 7 4 6 7 7\n",
      " 6 8 0 1 4 2 6 6 1 7 3 8 5 4 6 8 6 2 8 5 0 0 7 8 1 4 7 6 1 9 0 4 4 8 1 3 5\n",
      " 9 3 2 2 0 9 5 3 2 4 1 8 0 3 4 4 5 5 5 8 9 7 7 0 1 3 5 1 7 8 8 5 8 8 9 7 2\n",
      " 8] [5 1 9 6 4 4 5 1 5 0 2 4 8 4 0 1 7 5 8 1 9 9 1 9 6 9 8 8 0 5 3 8 9 8 3 1 4\n",
      " 5 5 6 0 7 8 0 8 9 1 0 2 1 0 4 0 9 1 4 7 2 3 9 4 8 5 6 5 6 0 3 1 4 1 5 3 6\n",
      " 5 6 1 6 2 0 8 9 8 0 9 1 5 5 4 7 0 7 2 6 5 6 8 0 8 3 7 8 3 1 3 5 7 1 1 2 4\n",
      " 4 0 0 1 0 7 8 1 3 4 1 6 0 4 5 6 4 9 9 7 2 1 5 5 3 1 8 8 0 0 4 9 0 3 1 3 3\n",
      " 6 4 4 1 7 5 7 6 6 1 4 8 8 7 9 7 1 6 4 8 6 1 5 8 6 0 6 0 4 4 4 1 2 9 1 1 8\n",
      " 8 9 3 5 6 0 5 3 4 0 9 4 4 1 2 1 6 0 0 1 0 9 7 7 9 3 3 1 9 7 8 7 1 4 2 2 6\n",
      " 3 7 7 7 8 8 0 3 2 8 4 7 6 3 6 2 5 8 7 2 2 6 6 0 8 1 3 5 6 5 6 0 6 7 3 9 8\n",
      " 4 7 7 3 8 8 9 1 4 8 5 5 0 0 2 9 1 6 0 2 0 7 3 4 0 0 3 7 8 2 7 3 0 9 1 7 4\n",
      " 2 5 0 3 2 1 3 0 6 0 5 5 3 0 6 1 3 7 4 0 6 0 8 7 8 1 4 9 1 7 0 7 0 0 2 5 2\n",
      " 5 9 6 5 2 0 5 1 8 5 3 6 2 8 7 4 7 0 3 2 0 4 4 2 2 8 9 9 8 3 7 7 0 9 2 2 0\n",
      " 4 1 4 8 7 9 9 7 0 2 0 4 6 8 9 0 3 3 3 4 2 3 7 5 8 1 4 4 2 6 1 2 3 8 3 2 6\n",
      " 5 8 6 7 1 5 8 0 0 4 7 6 3 4 1 8 2 3 5 3 4 4 4 8 0 1 1 7 4 7 7 5 4 8 1 9 9\n",
      " 9 2 4 1 1 1 3 3 2 0 4 8 8 3 8 7 8 1 8 5 3 1 0 6 7 2 8 1 8 4 0 8 5 9 8 2 0\n",
      " 4 6 4 5 8 7 7 2 2 7 2 1 7 1 5 8 4 7 3 4 8 7 4 7 9 4 4 9 1 8 8 6 6 3 2 5 1\n",
      " 6 7 0 1 8 9 4 7 7 7 4 8 8 4 2 0 5 8 9 6 0 9 6 4 7 6 1 2 2 8 9 1 2 1 0 3 1\n",
      " 6 8 0 7 0 2 1 6 2 4 2 1 0 8 1 1 9 8 4 8 0 6 9 5 1 7 4 9 1 1 6 1 1 5 4 7 4\n",
      " 6 0 8 9 8 1 8 1 2 1 2 0 6 6 5 1 7 8 8 9 3 4 2 5 5 5 1 5 9 1 3 7 4 2 3 7 1\n",
      " 6 6 5 3 2 8 2 6 4 5 3 4 1 6 5 5 5 9 4 1 5 1 3 0 8 3 9 3 6 7 4 1 5 1 3 2 2\n",
      " 5 3 8 0 6 9 0 2 1 2 1 3 2 2 9 8 7 2 8 4 6 0 9 8 3 7 1 3 1 6 6 8 5 9 4 4 6\n",
      " 0 6 9 4 2 9 1 8 4 3 3 3 2 1 9 6 2 7 6 4 6 4 7 7 0 2 4 9 8 0 6 0 6 4 6 5 5\n",
      " 9 0 9 3 1 2 4 4 3 3 4 9 5 3 7 5 7 8 7 9 4 4 0 3 9 4 5 2 2 4 4 6 7 7 9 4 2\n",
      " 7 7 2 9 1 2 0 5 6 4 3 3 2 6 2 0 0 2 5 5 7 3 9 1 6 0 4 2 2 8 0 3 5 0 2 0 2\n",
      " 6 7 8 1 1 7 2 7 3 0 4 1 8 4 1 5 4 1 1 5 8 6 9 3 3 1 1 8 3 5 1 2 8 8 5 3 4\n",
      " 6 1 9 5 0 1 7 5 4 2 2 6 3 0 4 5 7 5 1 6 0 7 4 0 2 9 6 8 1 0 9 0 5 9 4 6 5\n",
      " 0 8 2 0 8 2 8 0 6 7 9 1 8 0 6 5 1 2 2 2 7 8 7 0 7 1 3 7 0 2 8 1 9 4 6 7 7\n",
      " 2 8 0 8 4 2 6 5 1 7 3 8 5 4 6 7 6 2 1 5 0 0 8 1 1 4 7 6 1 9 0 4 9 8 1 3 5\n",
      " 4 3 2 2 0 9 5 3 2 9 1 2 0 2 4 4 5 5 3 8 9 7 7 0 1 3 5 1 7 8 8 9 8 8 9 7 5\n",
      " 8]\n"
     ]
    },
    {
     "data": {
      "text/plain": [
       "0.819"
      ]
     },
     "execution_count": 121,
     "metadata": {},
     "output_type": "execute_result"
    }
   ],
   "source": [
    "original_predictions = make_predictions(X_original, W1, b1, W2, b2, W3, b3, W4, b4)\n",
    "get_accuracy(original_predictions, Y_original)\n"
   ]
  },
  {
   "cell_type": "code",
   "execution_count": null,
   "id": "ae284fdb",
   "metadata": {},
   "outputs": [],
   "source": []
  },
  {
   "cell_type": "code",
   "execution_count": null,
   "id": "81d02ac1",
   "metadata": {},
   "outputs": [],
   "source": []
  },
  {
   "cell_type": "code",
   "execution_count": null,
   "id": "2f9aff6f",
   "metadata": {},
   "outputs": [],
   "source": []
  },
  {
   "cell_type": "code",
   "execution_count": null,
   "id": "e232b45c",
   "metadata": {},
   "outputs": [],
   "source": []
  },
  {
   "cell_type": "code",
   "execution_count": null,
   "id": "59ed2c92",
   "metadata": {},
   "outputs": [],
   "source": []
  },
  {
   "cell_type": "code",
   "execution_count": null,
   "id": "0d5a4df7",
   "metadata": {},
   "outputs": [],
   "source": []
  },
  {
   "cell_type": "code",
   "execution_count": null,
   "id": "40c27ba1",
   "metadata": {},
   "outputs": [],
   "source": []
  }
 ],
 "metadata": {
  "kernelspec": {
   "display_name": "Python 3",
   "language": "python",
   "name": "python3"
  },
  "language_info": {
   "codemirror_mode": {
    "name": "ipython",
    "version": 3
   },
   "file_extension": ".py",
   "mimetype": "text/x-python",
   "name": "python",
   "nbconvert_exporter": "python",
   "pygments_lexer": "ipython3",
   "version": "3.8.5"
  }
 },
 "nbformat": 4,
 "nbformat_minor": 5
}
